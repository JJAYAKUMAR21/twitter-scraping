{
  "nbformat": 4,
  "nbformat_minor": 0,
  "metadata": {
    "colab": {
      "provenance": [],
      "authorship_tag": "ABX9TyPIlJfflfyJGvRfVLNY3HYQ",
      "include_colab_link": true
    },
    "kernelspec": {
      "name": "python3",
      "display_name": "Python 3"
    },
    "language_info": {
      "name": "python"
    }
  },
  "cells": [
    {
      "cell_type": "markdown",
      "metadata": {
        "id": "view-in-github",
        "colab_type": "text"
      },
      "source": [
        "<a href=\"https://colab.research.google.com/github/JJAYAKUMAR21/twitter-scraping/blob/main/Twitter_scraper.ipynb\" target=\"_parent\"><img src=\"https://colab.research.google.com/assets/colab-badge.svg\" alt=\"Open In Colab\"/></a>"
      ]
    },
    {
      "cell_type": "code",
      "execution_count": null,
      "metadata": {
        "id": "-81eE1eQ0qS5"
      },
      "outputs": [],
      "source": [
        "#importing necessary libraries\n",
        "import streamlit as st\n",
        "import pandas as pd\n",
        "import json\n",
        "import snscrape.modules.twitter as sntwitter\n",
        "from datetime import datetime\n",
        "\n",
        "#Applying the title, header, subheader and text to the project.\n",
        "st.title(\"TWITTER SCRAPING\")\n",
        "st.header(\"Python scripting, Data Collection, MongoDB, Streamlit\")\n",
        "st.subheader(\"\"\"\n",
        "Let's scrape some Tweets... \"\"\")\n",
        "#Loading MongoDb client\n",
        "from pymongo import MongoClient\n",
        "connection_string = st.text_input(\"Paste your MongoDb connection string here. After editing password press enter\")\n",
        "client = MongoClient(connection_string)\n",
        "\n",
        "# Enter the hashtag/keyword for Twitter scraping\n",
        "hashtag = st.text_input(\"What do you want to search for?\")\n",
        "\n",
        "\n",
        "sd = st.date_input(\"Enter the start date to fetch\")\n",
        "start_date = sd.strftime(\"%Y-%m-%d %H:%M:%S\")\n",
        "ed = st.date_input(\"Enter the end date to fetch\")\n",
        "end_date = ed.strftime(\"%Y-%m-%d %H:%M:%S\")\n",
        "count = st.number_input(\"Enter the number of Tweets needs to be scraped\", min_value=10.0, max_value=1000.0, value=50.0, step=10.0)\n",
        "tweets_list1 = []\n",
        "for i,tweet in enumerate(sntwitter.TwitterSearchScraper(hashtag).get_items()):\n",
        "  if i>int(count):\n",
        "    break\n",
        "  tweets_list1.append([tweet.date, \n",
        "                       tweet.id, \n",
        "                       tweet.url, \n",
        "                       tweet.user.\n",
        "                       username, \n",
        "                       tweet.content, \n",
        "                       tweet.replyCount, \n",
        "                       tweet.retweetCount, \n",
        "                       tweet.lang, \n",
        "                       tweet.source, \n",
        "                       tweet.likeCount\n",
        "                    ])\n",
        "\n",
        "\n",
        "tweets_df1 = pd.DataFrame(tweets_list1, columns = ['Datetime', \n",
        "                                                   'ID', \n",
        "                                                   'URL',\n",
        "                                                   'User', \n",
        "                                                   'Tweet_Content', \n",
        "                                                   'Reply_Count', \n",
        "                                                   'Retweet_Count',\n",
        "                                                   'Language', \n",
        "                                                   'Source', \n",
        "                                                   'Like_COunt'\n",
        "                                                ])\n",
        "\n",
        "\n",
        "\n",
        "tweets_df1[\"Datetime\"] = tweets_df1[\"Datetime\"].dt.strftime(\"%Y-%m-%d %H:%M:%S\")\n",
        "mask = (tweets_df1['Datetime'] > start_date) & (tweets_df1['Datetime'] <= end_date)\n",
        "tweets_df1 = tweets_df1.loc[mask]\n",
        "\n",
        "\n",
        "st.subheader(\"The scraped data are as below:\")\n",
        "st.write(tweets_df1)\n",
        "\n",
        "\n",
        "data = tweets_df1.to_dict(orient = \"records\")\n",
        "upload = st.button(\"Upload to MongoDb\")\n",
        "if upload == True:\n",
        "    db = client[\"Twitter_scrapping\"]\n",
        "    col = db[hashtag]\n",
        "    col.insert_many(data)\n",
        "\n",
        "\n",
        "\n",
        "json_string = json.dumps(data,indent=4, sort_keys=True, default=str)\n",
        "st.json(json_string, expanded=True)\n",
        "st.download_button(\n",
        "    label=\"Download data as JSON\",\n",
        "    file_name=\"data.json\",\n",
        "    mime=\"application/json\",\n",
        "    data=json_string,\n",
        ")\n",
        "\n",
        "#@st.cache\n",
        "def convert_df(tweets_df1):\n",
        "    return tweets_df1.to_csv().encode('utf-8')\n",
        "csv = convert_df(tweets_df1)\n",
        "\n",
        "st.download_button(\n",
        "    label=\"Download data as CSV\",\n",
        "    data=csv,\n",
        "    file_name= 'Twitter_scrape.csv',\n",
        "    mime='text/csv'\n",
        ")"
      ]
    },
    {
      "cell_type": "code",
      "source": [],
      "metadata": {
        "id": "-awIh9kKIwK2"
      },
      "execution_count": null,
      "outputs": []
    }
  ]
}
